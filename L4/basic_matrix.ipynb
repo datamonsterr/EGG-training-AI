{
 "cells": [
  {
   "cell_type": "code",
   "execution_count": 1,
   "metadata": {},
   "outputs": [],
   "source": [
    "import numpy as np\n",
    "import matplotlib.pyplot as plt\n",
    "np.random.seed(42)"
   ]
  },
  {
   "cell_type": "markdown",
   "metadata": {},
   "source": [
    "# Ma trận chuyển vị và ma trận Hermitian "
   ]
  },
  {
   "cell_type": "markdown",
   "metadata": {},
   "source": [
    "## Ma trận chuyển vị"
   ]
  },
  {
   "cell_type": "code",
   "execution_count": 16,
   "metadata": {},
   "outputs": [
    {
     "name": "stdout",
     "output_type": "stream",
     "text": [
      "y =\n",
      " [0.5612772  0.77096718 0.4937956  0.52273283 0.42754102]\n",
      "Transpose of vector y = \n",
      " [0.5612772  0.77096718 0.4937956  0.52273283 0.42754102]\n"
     ]
    },
    {
     "data": {
      "text/plain": [
       "array([0.5612772 , 0.77096718, 0.4937956 , 0.52273283, 0.42754102])"
      ]
     },
     "execution_count": 16,
     "metadata": {},
     "output_type": "execute_result"
    }
   ],
   "source": [
    "y = np.random.rand(5) # an array with 5 elements - not a column vector\n",
    "print(f\"y =\\n {y}\")\n",
    "print(f\"Transpose of vector y = \\n {y.T}\")\n",
    "np.transpose(y)\n"
   ]
  },
  {
   "cell_type": "code",
   "execution_count": 3,
   "metadata": {},
   "outputs": [
    {
     "name": "stdout",
     "output_type": "stream",
     "text": [
      "X =\n",
      " [[0.15599452 0.05808361 0.86617615 0.60111501]\n",
      " [0.70807258 0.02058449 0.96990985 0.83244264]\n",
      " [0.21233911 0.18182497 0.18340451 0.30424224]]\n",
      "Transpose of matrix X = \n",
      " [[0.15599452 0.70807258 0.21233911]\n",
      " [0.05808361 0.02058449 0.18182497]\n",
      " [0.86617615 0.96990985 0.18340451]\n",
      " [0.60111501 0.83244264 0.30424224]]\n",
      "Transpose of matrix X = \n",
      " [[0.15599452 0.70807258 0.21233911]\n",
      " [0.05808361 0.02058449 0.18182497]\n",
      " [0.86617615 0.96990985 0.18340451]\n",
      " [0.60111501 0.83244264 0.30424224]]\n"
     ]
    },
    {
     "data": {
      "text/plain": [
       "(4, 3)"
      ]
     },
     "execution_count": 3,
     "metadata": {},
     "output_type": "execute_result"
    }
   ],
   "source": [
    "X = np.random.rand(3,4)\n",
    "print(f\"X =\\n {X}\")\n",
    "print(f\"Transpose of matrix X = \\n {X.T}\")\n",
    "print(f\"Transpose of matrix X = \\n {np.transpose(X)}\")\n",
    "X.T.shape"
   ]
  },
  {
   "cell_type": "markdown",
   "metadata": {},
   "source": [
    "## Ma trận Hermitian"
   ]
  },
  {
   "cell_type": "markdown",
   "metadata": {},
   "source": [
    "For a given matrix $\\mathbf{A}$, conjugate transpose of matrix $\\mathbf{A}$ is denoted by $\\mathbf{A}^H$. We have \n",
    "$$ \\left[\\mathbf{A}^H\\right]_{ij} = \\left[\\mathbf{A}_{ji}\\right]^*$$\n",
    "If $\\left[\\mathbf{A}_{ji}\\right] = a + bi$ then $\\left[\\mathbf{A}_{ji}\\right]^* = a- bi$"
   ]
  },
  {
   "cell_type": "code",
   "execution_count": 4,
   "metadata": {},
   "outputs": [
    {
     "name": "stdout",
     "output_type": "stream",
     "text": [
      "Z = \n",
      " [[0.52475643+0.36636184j 0.43194502+0.45606998j 0.29122914+0.78517596j]\n",
      " [0.61185289+0.19967378j 0.13949386+0.51423444j 0.29214465+0.59241457j]]\n",
      "conjugate transpose of matrix X = \n",
      " [[0.52475643-0.36636184j 0.43194502-0.45606998j 0.29122914-0.78517596j]\n",
      " [0.61185289-0.19967378j 0.13949386-0.51423444j 0.29214465-0.59241457j]]\n"
     ]
    }
   ],
   "source": [
    "Z = np.random.rand(2,3) + 1j * np.random.rand(2,3)\n",
    "print(f\"Z = \\n {Z}\")\n",
    "print(f\"conjugate transpose of matrix X = \\n {np.conjugate(Z)}\")"
   ]
  },
  {
   "cell_type": "markdown",
   "metadata": {},
   "source": [
    "# Định thức của một ma trận"
   ]
  },
  {
   "cell_type": "code",
   "execution_count": 5,
   "metadata": {},
   "outputs": [
    {
     "name": "stdout",
     "output_type": "stream",
     "text": [
      "determinant of matrix X = 0.33361391401291307\n",
      "determinant of matrix Z = (-0.2269402143831396-0.6272484144519535j)\n"
     ]
    }
   ],
   "source": [
    "X = np.random.rand(3,3) # real matrix\n",
    "Z = np.random.rand(3,3) + 1j * np.random.rand(3,3) # bthg a + bi , trong code thì nó là a + bj\n",
    "\n",
    "print(f\"determinant of matrix X = {np.linalg.det(X)}\")\n",
    "print(f\"determinant of matrix Z = {np.linalg.det(Z)}\")"
   ]
  },
  {
   "cell_type": "markdown",
   "metadata": {},
   "source": [
    "# Nghịch đảo của ma trận"
   ]
  },
  {
   "cell_type": "code",
   "execution_count": 6,
   "metadata": {},
   "outputs": [
    {
     "name": "stdout",
     "output_type": "stream",
     "text": [
      "inverse matrix of X = \n",
      " [[-0.60388715 -0.02216992  1.27349873]\n",
      " [ 2.32082841 -0.39960665 -0.10119824]\n",
      " [-2.23989741  1.42976115  0.0136516 ]]\n",
      "inverse matrix of Z = \n",
      " [[ 1.63837522-0.59427987j  0.36479681+0.66945304j -1.15457084-0.37676077j]\n",
      " [-0.48862299+0.03701774j -0.82888326-0.51084939j  1.40577688+0.10624513j]\n",
      " [-1.21766799+0.24985996j  0.57181347-0.61843465j  0.24477981-0.01899266j]]\n"
     ]
    }
   ],
   "source": [
    "print(f\"inverse matrix of X = \\n {np.linalg.inv(X)}\")  # inv là viết tắt của inverse\n",
    "print(f\"inverse matrix of Z = \\n {np.linalg.inv(Z)}\")"
   ]
  },
  {
   "cell_type": "markdown",
   "metadata": {},
   "source": [
    "### Giả nghịch đảo của một ma trận"
   ]
  },
  {
   "cell_type": "code",
   "execution_count": 19,
   "metadata": {},
   "outputs": [
    {
     "data": {
      "text/plain": [
       "array([[0.02, 0.04],\n",
       "       [0.06, 0.12]])"
      ]
     },
     "execution_count": 19,
     "metadata": {},
     "output_type": "execute_result"
    }
   ],
   "source": [
    "# create matrix X with determinant equal to 0 \n",
    "X = np.array([[1,3], [2,6]]) \n",
    "# 1 3\n",
    "# 2 6 \n",
    "#X_dagger = np.linalg.inv(X) # error \n",
    "X_dagger = np.linalg.pinv(X) # pseudo inverse\n",
    "X_dagger\n",
    "# ma trận giả nghịch đảo. Khi mà det(X) = 0 , tức là X không gồm các hàng độc lập tuyến tính\n",
    "#nhưng mà có cía phương trình Xy = b => y = giả nghịch đảo(X) * b.  \n",
    "# ma trận gì , có thể các hàng nó tỉ lệ vs ban đầu "
   ]
  },
  {
   "cell_type": "markdown",
   "metadata": {},
   "source": [
    "# Giá trị riêng và vector riêng của ma trận"
   ]
  },
  {
   "cell_type": "code",
   "execution_count": 20,
   "metadata": {},
   "outputs": [
    {
     "name": "stdout",
     "output_type": "stream",
     "text": [
      "eigenvalues of matrix Z is \n",
      "[ 1.29944647+2.05820459j  0.39526551+0.11468956j -0.66437936+0.04418093j]\n",
      "eigenvectors of matrix Z is \n",
      "[[ 0.3582411 -0.10339026j  0.75332502+0.j         -0.25789114-0.18960835j]\n",
      " [ 0.68184949+0.j         -0.3602117 -0.02058259j  0.80097752+0.j        ]\n",
      " [ 0.62918124-0.01363861j -0.54954681+0.01798914j -0.46031516+0.20996618j]]\n"
     ]
    }
   ],
   "source": [
    "eigenvalues, eigenvectors = np.linalg.eig(Z) # eigen, hàm này nó trả về 2 list, list đàu tiên là giá trị riêng, còn list thứ 2 là vector riêng\n",
    "print(f\"eigenvalues of matrix Z is \\n{eigenvalues}\")\n",
    "print(f\"eigenvectors of matrix Z is \\n{eigenvectors}\")"
   ]
  },
  {
   "cell_type": "markdown",
   "metadata": {},
   "source": [
    "# Norm (chuẩn của một vector/ma trận)"
   ]
  },
  {
   "cell_type": "code",
   "execution_count": 9,
   "metadata": {},
   "outputs": [
    {
     "name": "stdout",
     "output_type": "stream",
     "text": [
      "y = [0.0884925  0.19598286 0.04522729 0.32533033 0.38867729]\n",
      "l_2 norm of y = 0.5524450855772945\n",
      "l_1 norm of y = 1.0437102738343491\n",
      "l_infty norm of y = 0.388677289689482\n"
     ]
    }
   ],
   "source": [
    "y = np.random.rand(5)\n",
    "print(f\"y = {y}\")\n",
    "print(f\"l_2 norm of y = {np.linalg.norm(y)}\") # mặc định thì là l2\n",
    "print(f\"l_1 norm of y = {np.linalg.norm(y, 1)}\")\n",
    "print(f\"l_infty norm of y = {np.linalg.norm(y, np.inf)}\")"
   ]
  },
  {
   "cell_type": "code",
   "execution_count": 32,
   "metadata": {},
   "outputs": [
    {
     "name": "stdout",
     "output_type": "stream",
     "text": [
      "X = [[ 0.31522578  0.13661721 -0.81265046 -0.26456839]\n",
      " [-0.46959526 -0.51202071  0.94602111 -0.21380455]\n",
      " [ 0.78409311  0.26227725  0.58962261  0.00527419]]\n",
      "l_2 frobenius norm of matrix X = 1.8174311585283518\n",
      "norm calculated based on definition : 1.817431158528352\n",
      "norm calculated based on corollary of trace ( ||X|| = trace(XX^T) ): 1.8174311585283518\n",
      "False\n",
      "True\n"
     ]
    }
   ],
   "source": [
    "X = -1 + 2 * np.random.rand(3,4) # các phần tử -1 + 2 * rand(); 0<= rand() <=1. Khi đó -1 + 2 * rand() thuộc [-1,1]\n",
    "#broadcasting\n",
    "\n",
    "\"\"\"\n",
    "norm calculated based on built-in function\n",
    "\"\"\"\n",
    "print(f\"X = {X}\")\n",
    "print(f\"l_2 frobenius norm of matrix X = {np.linalg.norm(X)}\")\n",
    "norm = np.linalg.norm(X) # cách 1 là dùng hàm\n",
    "\"\"\"\n",
    "norm calculated based on definition\n",
    "\"\"\"\n",
    "check_norm1 = np.sqrt(np.sum(np.reshape(np.square(X), (1,-1)))) #cách 2: dòng này là tính Frobenius norm theo định nghĩa \n",
    "print(f\"norm calculated based on definition : {check_norm1}\") \n",
    "\"\"\"\n",
    "norm calculated based on corollary of trace\n",
    "\"\"\"\n",
    "print(f\"norm calculated based on corollary of trace ( ||X|| = trace(XX^T) ): {np.sqrt(np.trace(np.matmul(X,X.T)))}\") \n",
    "# cách 3: dùng tính chất norm(X) = trace(XX^T) = trace(X^TX) \n",
    "\n",
    "\"\"\"check\"\"\"\n",
    "print(norm == check_norm1) # lí do là việc tính toán với số thực có thể dẫn đến sai số \n",
    "print(np.isclose(norm,check_norm1)) #always true chỉ cần là gần nhau ở mức 1e-8 (mặc định) thì nó là bằng nhau rồi\n",
    "# np.allclose => check từng phần tử của ma trận có bằng nhau không\n",
    "\n"
   ]
  },
  {
   "cell_type": "code",
   "execution_count": 22,
   "metadata": {},
   "outputs": [
    {
     "data": {
      "text/plain": [
       "array([[0.47809039, 0.32627214, 0.53904368, 0.41051352],\n",
       "       [0.63918109, 0.48736283, 0.70013438, 0.57160421],\n",
       "       [0.9843493 , 0.83253105, 1.04530259, 0.91677243]])"
      ]
     },
     "execution_count": 22,
     "metadata": {},
     "output_type": "execute_result"
    }
   ],
   "source": [
    "# A có size 3x1 , B có size là 1x4 => A + B sẽ có size là 3x4 , A lặp ra 4 cột giống nhau, B lặp ra 3 hàng giống nhau để cộng \n",
    "a = np.random.rand(3).reshape(3,-1)\n",
    "b = np.random.rand(4).reshape(1,-1)\n",
    "\n",
    "a + b"
   ]
  },
  {
   "cell_type": "markdown",
   "metadata": {},
   "source": [
    "# Mathercise 2 \n",
    "Given function \n",
    "    $$\n",
    "        f(x,y,z) = 4x_1 + 6x_2^2 + 5x_2x_3 + 9x_3^4\n",
    "    $$\n",
    "    and $z = (2,4,7.5) \\in \\mathbb{R}^3$. Compute the value of $f$ after using **_Gradient Descent_** method 2 times, starting from $z$ with **_learning rate_** equal to $0.1$."
   ]
  },
  {
   "cell_type": "code",
   "execution_count": 34,
   "metadata": {},
   "outputs": [
    {
     "name": "stdout",
     "output_type": "stream",
     "text": [
      "31382.257035938477\n",
      "51069.90896380637\n"
     ]
    }
   ],
   "source": [
    "def f(x):\n",
    "    return 4 * x[0] + 6 * (x[1] ** 2) + 5 * x[1] * x[2] + 9 * (x[2] ** 4)\n",
    "\n",
    "def gradient(x):\n",
    "    return np.array([4, 12 * x[1] + 5 * x[2], 36 * (x[2] ** 3)])\n",
    "\n",
    "z = np.array([2.0,4.0,7.5])\n",
    "\n",
    "learning_rate = 1e-3\n",
    "\n",
    "#first iteration\n",
    "z1 = z - learning_rate * gradient(z)\n",
    "print(f(z1))\n",
    "#second iteration \n",
    "z2 = z1 - learning_rate * gradient(z1)\n",
    "print(f(z2))\n",
    "# chú ý : sau khi dùng GD , giá trị của f2 tăng lên => điều này có nghĩa là \n",
    "# dùng GD không hiệu quả, thuật toán này ko hiệu quả \n",
    "# hoặc là do learning_rate qúa lớn\n"
   ]
  }
 ],
 "metadata": {
  "kernelspec": {
   "display_name": "base",
   "language": "python",
   "name": "python3"
  },
  "language_info": {
   "codemirror_mode": {
    "name": "ipython",
    "version": 3
   },
   "file_extension": ".py",
   "mimetype": "text/x-python",
   "name": "python",
   "nbconvert_exporter": "python",
   "pygments_lexer": "ipython3",
   "version": "3.11.5"
  }
 },
 "nbformat": 4,
 "nbformat_minor": 2
}
