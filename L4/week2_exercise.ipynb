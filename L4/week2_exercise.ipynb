{
 "cells": [
  {
   "cell_type": "code",
   "execution_count": 11,
   "metadata": {},
   "outputs": [],
   "source": [
    "import numpy as np\n",
    "import pandas as pd\n",
    "import matplotlib.pyplot as plt"
   ]
  },
  {
   "cell_type": "markdown",
   "metadata": {},
   "source": [
    "# Bài 1\n",
    "Cho hàm số $L(x,y) = \\log(e^x + e^y)$, tính gradient của hàm $L$ tại $\\theta = [0.5163688 , 0.02439464]$ (ở đây hiểu $\\log$ là $\\log_e$). "
   ]
  },
  {
   "cell_type": "code",
   "execution_count": 12,
   "metadata": {},
   "outputs": [
    {
     "data": {
      "text/plain": [
       "'\\nKết quả đúng là \\n(0.9548885183510186, 0.0451114816489813)\\n'"
      ]
     },
     "execution_count": 12,
     "metadata": {},
     "output_type": "execute_result"
    }
   ],
   "source": [
    "##################\n",
    "# YOUR CODE HERE #\n",
    "##################\n",
    "\"\"\"\n",
    "Kết quả đúng là \n",
    "(0.9548885183510186, 0.0451114816489813)\n",
    "\"\"\""
   ]
  },
  {
   "cell_type": "markdown",
   "metadata": {},
   "source": [
    "# Bài 2\n",
    "Tính $\\nabla_X(det(X))$ tại $X = \\begin{bmatrix} 0.14045433 & 0.21556006 \\\\ 0.93160081 & 0.86232505\\end{bmatrix}$"
   ]
  },
  {
   "cell_type": "code",
   "execution_count": 13,
   "metadata": {},
   "outputs": [
    {
     "data": {
      "text/plain": [
       "'\\nKết quả đúng là \\n[[ 0.86232505, -0.93160081],\\n[-0.21556006,  0.14045433]]\\n'"
      ]
     },
     "execution_count": 13,
     "metadata": {},
     "output_type": "execute_result"
    }
   ],
   "source": [
    "##################\n",
    "# YOUR CODE HERE #\n",
    "##################\n",
    "\"\"\"\n",
    "Kết quả đúng là \n",
    "[[ 0.86232505, -0.93160081],\n",
    "[-0.21556006,  0.14045433]]\n",
    "\"\"\""
   ]
  },
  {
   "cell_type": "markdown",
   "metadata": {},
   "source": [
    "# Bài 3\n",
    "Tính $\\nabla_X(det(X^3))$ tại $X = \\begin{bmatrix} 0.14045433 & 0.21556006 \\\\ 0.93160081 & 0.86232505\\end{bmatrix}$"
   ]
  },
  {
   "cell_type": "code",
   "execution_count": 14,
   "metadata": {},
   "outputs": [
    {
     "data": {
      "text/plain": [
       "'\\nKết quả đúng là \\n[[ 0.20519554, -0.22168013],\\n[-0.05129384,  0.03342197]]\\n'"
      ]
     },
     "execution_count": 14,
     "metadata": {},
     "output_type": "execute_result"
    }
   ],
   "source": [
    "##################\n",
    "# YOUR CODE HERE #\n",
    "##################\n",
    "\"\"\"\n",
    "Kết quả đúng là \n",
    "[[ 0.20519554, -0.22168013],\n",
    "[-0.05129384,  0.03342197]]\n",
    "\"\"\""
   ]
  },
  {
   "cell_type": "markdown",
   "metadata": {},
   "source": [
    "# Bài 4\n",
    "Tính $\\nabla_X (Xb+c)^TD(Xb+c)$ với ma trận $X, D$, vector $b,c$ cho bên dưới."
   ]
  },
  {
   "cell_type": "code",
   "execution_count": 15,
   "metadata": {},
   "outputs": [
    {
     "data": {
      "text/plain": [
       "'\\nKết quả đúng là \\n[[1.20349889, 1.93018225, 5.50947406, 3.90668753],\\n[0.99358405, 1.59351895, 4.54850898, 3.22528124],\\n[1.21241147, 1.94447633, 5.55027479, 3.93561873]]\\n'"
      ]
     },
     "execution_count": 15,
     "metadata": {},
     "output_type": "execute_result"
    }
   ],
   "source": [
    "X = np.array([[0.73747771, 0.1715021,  0.97301407, 0.00599123],\n",
    " [0.40093358, 0.80155863, 0.29734191, 0.0982829 ],\n",
    " [0.15816491, 0.13216239, 0.96322033, 0.46986653]])\n",
    "b = np.array([0.19205384,0.30801766,0.87919952,0.62342753])\n",
    "c = np.array([0.67707308, 0.82705551, 0.83016006])\n",
    "D = np.array([[0.78713087, 0.16649279, 0.78490713],\n",
    " [0.72165378, 0.5035476,  0.86487357],\n",
    " [0.30915078, 0.18959695, 0.70195363]])\n",
    "\n",
    "##################\n",
    "# YOUR CODE HERE #\n",
    "##################\n",
    "\"\"\"\n",
    "Kết quả đúng là \n",
    "[[1.20349889, 1.93018225, 5.50947406, 3.90668753],\n",
    "[0.99358405, 1.59351895, 4.54850898, 3.22528124],\n",
    "[1.21241147, 1.94447633, 5.55027479, 3.93561873]]\n",
    "\"\"\"\n"
   ]
  },
  {
   "cell_type": "markdown",
   "metadata": {},
   "source": [
    "# Bài 5"
   ]
  },
  {
   "cell_type": "code",
   "execution_count": 16,
   "metadata": {},
   "outputs": [
    {
     "data": {
      "text/plain": [
       "'Kết quả sẽ đúng nếu nó ra như này :\\n[[-4.16666667e-01  5.00000000e-01  0.00000000e+00  0.00000000e+00\\n   0.00000000e+00  0.00000000e+00  8.33333333e-02]\\n [ 5.00000000e-01 -1.00000000e+00  5.00000000e-01  0.00000000e+00\\n   0.00000000e+00  0.00000000e+00  0.00000000e+00]\\n [-5.55111512e-17  5.00000000e-01 -1.00000000e+00  5.00000000e-01\\n   0.00000000e+00  0.00000000e+00  9.71445147e-17]\\n [-5.55111512e-17  1.11022302e-16  5.00000000e-01 -1.00000000e+00\\n   5.00000000e-01  0.00000000e+00 -1.38777878e-16]\\n [ 0.00000000e+00  0.00000000e+00  0.00000000e+00  5.00000000e-01\\n  -1.00000000e+00  5.00000000e-01  1.11022302e-16]\\n [ 1.38777878e-16 -1.66533454e-16  0.00000000e+00  0.00000000e+00\\n   5.00000000e-01 -1.00000000e+00  5.00000000e-01]\\n [ 8.33333333e-02  1.11022302e-16  0.00000000e+00  0.00000000e+00\\n   0.00000000e+00  5.00000000e-01 -4.16666667e-01]]\\n'"
      ]
     },
     "execution_count": 16,
     "metadata": {},
     "output_type": "execute_result"
    }
   ],
   "source": [
    "\"\"\"\n",
    "Cho ma trận A bằng\n",
    "[[0 1 2 3 4 5 6]\n",
    " [1 0 1 2 3 4 5]\n",
    " [2 1 0 1 2 3 4]\n",
    " [3 2 1 0 1 2 3]\n",
    " [4 3 2 1 0 1 2]\n",
    " [5 4 3 2 1 0 1]\n",
    " [6 5 4 3 2 1 0]]\n",
    "Tính nghịch đảo của ma trận A. Tất nhiên, phải implement A bằng code chứ nhỉ :)) \n",
    "\"\"\"\n",
    "\n",
    "\n",
    "##################\n",
    "# YOUR CODE HERE #\n",
    "##################\n",
    "\n",
    "\n",
    "\"\"\"Kết quả sẽ đúng nếu nó ra như này :\n",
    "[[-4.16666667e-01  5.00000000e-01  0.00000000e+00  0.00000000e+00\n",
    "   0.00000000e+00  0.00000000e+00  8.33333333e-02]\n",
    " [ 5.00000000e-01 -1.00000000e+00  5.00000000e-01  0.00000000e+00\n",
    "   0.00000000e+00  0.00000000e+00  0.00000000e+00]\n",
    " [-5.55111512e-17  5.00000000e-01 -1.00000000e+00  5.00000000e-01\n",
    "   0.00000000e+00  0.00000000e+00  9.71445147e-17]\n",
    " [-5.55111512e-17  1.11022302e-16  5.00000000e-01 -1.00000000e+00\n",
    "   5.00000000e-01  0.00000000e+00 -1.38777878e-16]\n",
    " [ 0.00000000e+00  0.00000000e+00  0.00000000e+00  5.00000000e-01\n",
    "  -1.00000000e+00  5.00000000e-01  1.11022302e-16]\n",
    " [ 1.38777878e-16 -1.66533454e-16  0.00000000e+00  0.00000000e+00\n",
    "   5.00000000e-01 -1.00000000e+00  5.00000000e-01]\n",
    " [ 8.33333333e-02  1.11022302e-16  0.00000000e+00  0.00000000e+00\n",
    "   0.00000000e+00  5.00000000e-01 -4.16666667e-01]]\n",
    "\"\"\"\n"
   ]
  },
  {
   "cell_type": "markdown",
   "metadata": {},
   "source": [
    "# Bài 6\n",
    "Trong thuật toán linear regression, chúng ta cần phải tìm ra mô hình tuyến tính có dạng $\\hat{y} = w_1x_1 + w_2x_2 + ... w_nx_n + b = \\overline{w}^T\\cdot \\overline{x}$, trong đó $x = [x_1,...,x_n]^T$ là vector mô tả đặc điểm của input, $\\hat{y}$ là đầu ra dự đoán và $\\overline{x} = [x_1,x_2,...,x_n,1]^T, \\overline{w} = [w_1,w_2,...,w_n, b]^T$. Thông qua việc làm như vậy, từ mô hình đường thẳng này, chúng ta có thể đưa ra dự đoán cho các giá trị cho các input mà ta chưa biết đến. Trong bài toán này, điều cần làm của chúng ta là tìm vector $\\overline{w}$ sao cho hàm mục tiêu $$\\mathcal{L} (\\overline{w}) = \\dfrac{1}{2N}\\sum (\\overline{w}^T\\cdot \\overline{x} - y)^2$$\n",
    "đạt giá trị nhỏ nhất. Về mặt toán học mà nói, đề bài có thể miêu tả một cách ngắn gọn như nhau: Cho $n$ cặp vector $(x,y)$ (để đơn giản thì $x,y$ chỉ có một chiều). Đặt $\\overline{x}_i = [x_i,1]^T, \\forall i \\in [1,N]$. Tìm vector $\\overline{w}$ có 2 chiều bằng **_Gradient Descent_** sao cho hàm dưới đây đạt giá trị nhỏ nhất $$\\mathcal{L} (\\overline{w}) = \\dfrac{1}{2N}\\sum_{i=1}^N (\\overline{w}^T\\cdot \\overline{x}_i - y_i)^2$$\n",
    "\n",
    "- **Data của bài toán nằm ở file data.csv**\n",
    "- Các bạn có thể tự chọn **điểm xuất phát** và **learning_rate**"
   ]
  },
  {
   "cell_type": "code",
   "execution_count": 17,
   "metadata": {},
   "outputs": [],
   "source": [
    "##################\n",
    "# YOUR CODE HERE #\n",
    "##################"
   ]
  },
  {
   "cell_type": "markdown",
   "metadata": {},
   "source": [
    "## plot kết quả "
   ]
  },
  {
   "cell_type": "code",
   "execution_count": 18,
   "metadata": {},
   "outputs": [
    {
     "ename": "NameError",
     "evalue": "name 'y0' is not defined",
     "output_type": "error",
     "traceback": [
      "\u001b[0;31m---------------------------------------------------------------------------\u001b[0m",
      "\u001b[0;31mNameError\u001b[0m                                 Traceback (most recent call last)",
      "Cell \u001b[0;32mIn[18], line 10\u001b[0m\n\u001b[1;32m      6\u001b[0m x0 \u001b[38;5;241m=\u001b[39m np\u001b[38;5;241m.\u001b[39mlinspace(\u001b[38;5;241m0\u001b[39m, \u001b[38;5;241m1\u001b[39m, \u001b[38;5;241m2\u001b[39m, endpoint\u001b[38;5;241m=\u001b[39m\u001b[38;5;28;01mTrue\u001b[39;00m)\n\u001b[1;32m      7\u001b[0m \u001b[38;5;66;03m##################\u001b[39;00m\n\u001b[1;32m      8\u001b[0m \u001b[38;5;66;03m# YOUR CODE HERE #\u001b[39;00m\n\u001b[1;32m      9\u001b[0m \u001b[38;5;66;03m##################\u001b[39;00m\n\u001b[0;32m---> 10\u001b[0m plt\u001b[38;5;241m.\u001b[39mplot(x0, y0, \u001b[38;5;124m'\u001b[39m\u001b[38;5;124mk\u001b[39m\u001b[38;5;124m'\u001b[39m, linewidth \u001b[38;5;241m=\u001b[39m \u001b[38;5;241m4\u001b[39m)\n\u001b[1;32m     11\u001b[0m plt\u001b[38;5;241m.\u001b[39mshow()\n",
      "\u001b[0;31mNameError\u001b[0m: name 'y0' is not defined"
     ]
    },
    {
     "data": {
      "image/png": "[encoded data removed]",
      "text/plain": [
       "<Figure size 640x480 with 1 Axes>"
      ]
     },
     "metadata": {},
     "output_type": "display_data"
    }
   ],
   "source": [
    "#y0 là hàm dự đoán đầu ra bằng cách y0 = w . x0\n",
    "\n",
    "\n",
    "data = pd.read_csv(\"data.csv\")\n",
    "plt.scatter(data[\"X\"], data[\"y\"])\n",
    "x0 = np.linspace(0, 1, 2, endpoint=True)\n",
    "##################\n",
    "# YOUR CODE HERE #\n",
    "##################\n",
    "plt.plot(x0, y0, 'k', linewidth = 4)\n",
    "plt.show()\n"
   ]
  },
  {
   "cell_type": "markdown",
   "metadata": {},
   "source": [
    "## Sử dụng thư viện scikit-learn (optional - không bắt buộc)\n",
    "Các bạn hãy sử dụng sklearn.linear_model.LinearRegression để check kết quả "
   ]
  },
  {
   "cell_type": "code",
   "execution_count": 10,
   "metadata": {},
   "outputs": [
    {
     "data": {
      "text/plain": [
       "0"
      ]
     },
     "execution_count": 10,
     "metadata": {},
     "output_type": "execute_result"
    }
   ],
   "source": [
    "##################\n",
    "# YOUR CODE HERE #\n",
    "##################\n"
   ]
  }
 ],
 "metadata": {
  "kernelspec": {
   "display_name": "base",
   "language": "python",
   "name": "python3"
  },
  "language_info": {
   "codemirror_mode": {
    "name": "ipython",
    "version": 3
   },
   "file_extension": ".py",
   "mimetype": "text/x-python",
   "name": "python",
   "nbconvert_exporter": "python",
   "pygments_lexer": "ipython3",
   "version": "3.11.5"
  }
 },
 "nbformat": 4,
 "nbformat_minor": 2
}
